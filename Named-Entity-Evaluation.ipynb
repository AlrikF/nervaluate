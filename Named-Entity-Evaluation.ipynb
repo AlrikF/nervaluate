{
 "cells": [
  {
   "cell_type": "code",
   "execution_count": 1,
   "metadata": {
    "collapsed": true
   },
   "outputs": [],
   "source": [
    "import nltk\n",
    "import sklearn_crfsuite\n",
    "\n",
    "from copy import deepcopy\n",
    "from collections import defaultdict\n",
    "\n",
    "from ner_evaluation.ner_eval import collect_named_entities\n",
    "from ner_evaluation.ner_eval import compute_metrics"
   ]
  },
  {
   "cell_type": "markdown",
   "metadata": {},
   "source": [
    "## Train a CRF on the CoNLL 2002 NER Spanish data"
   ]
  },
  {
   "cell_type": "code",
   "execution_count": 2,
   "metadata": {
    "collapsed": true
   },
   "outputs": [],
   "source": [
    "nltk.corpus.conll2002.fileids()\n",
    "train_sents = list(nltk.corpus.conll2002.iob_sents('esp.train'))\n",
    "test_sents = list(nltk.corpus.conll2002.iob_sents('esp.testb'))"
   ]
  },
  {
   "cell_type": "code",
   "execution_count": 3,
   "metadata": {
    "collapsed": true
   },
   "outputs": [],
   "source": [
    "def word2features(sent, i):\n",
    "    word = sent[i][0]\n",
    "    postag = sent[i][1]\n",
    "\n",
    "    features = {\n",
    "        'bias': 1.0,\n",
    "        'word.lower()': word.lower(),\n",
    "        'word[-3:]': word[-3:],\n",
    "        'word[-2:]': word[-2:],\n",
    "        'word.isupper()': word.isupper(),\n",
    "        'word.istitle()': word.istitle(),\n",
    "        'word.isdigit()': word.isdigit(),\n",
    "        'postag': postag,\n",
    "        'postag[:2]': postag[:2],\n",
    "    }\n",
    "    if i > 0:\n",
    "        word1 = sent[i-1][0]\n",
    "        postag1 = sent[i-1][1]\n",
    "        features.update({\n",
    "            '-1:word.lower()': word1.lower(),\n",
    "            '-1:word.istitle()': word1.istitle(),\n",
    "            '-1:word.isupper()': word1.isupper(),\n",
    "            '-1:postag': postag1,\n",
    "            '-1:postag[:2]': postag1[:2],\n",
    "        })\n",
    "    else:\n",
    "        features['BOS'] = True\n",
    "\n",
    "    if i < len(sent)-1:\n",
    "        word1 = sent[i+1][0]\n",
    "        postag1 = sent[i+1][1]\n",
    "        features.update({\n",
    "            '+1:word.lower()': word1.lower(),\n",
    "            '+1:word.istitle()': word1.istitle(),\n",
    "            '+1:word.isupper()': word1.isupper(),\n",
    "            '+1:postag': postag1,\n",
    "            '+1:postag[:2]': postag1[:2],\n",
    "        })\n",
    "    else:\n",
    "        features['EOS'] = True\n",
    "\n",
    "    return features\n",
    "\n",
    "\n",
    "def sent2features(sent):\n",
    "    return [word2features(sent, i) for i in range(len(sent))]\n",
    "\n",
    "\n",
    "def sent2labels(sent):\n",
    "    return [label for token, postag, label in sent]\n",
    "\n",
    "\n",
    "def sent2tokens(sent):\n",
    "    return [token for token, postag, label in sent]"
   ]
  },
  {
   "cell_type": "markdown",
   "metadata": {},
   "source": [
    "## Feature Extraction"
   ]
  },
  {
   "cell_type": "code",
   "execution_count": 4,
   "metadata": {},
   "outputs": [
    {
     "name": "stdout",
     "output_type": "stream",
     "text": [
      "CPU times: user 1.12 s, sys: 98.2 ms, total: 1.22 s\n",
      "Wall time: 1.22 s\n"
     ]
    }
   ],
   "source": [
    "%%time\n",
    "X_train = [sent2features(s) for s in train_sents]\n",
    "y_train = [sent2labels(s) for s in train_sents]\n",
    "\n",
    "X_test = [sent2features(s) for s in test_sents]\n",
    "y_test = [sent2labels(s) for s in test_sents]"
   ]
  },
  {
   "cell_type": "markdown",
   "metadata": {},
   "source": [
    "## Training"
   ]
  },
  {
   "cell_type": "code",
   "execution_count": 5,
   "metadata": {},
   "outputs": [
    {
     "name": "stdout",
     "output_type": "stream",
     "text": [
      "CPU times: user 34.1 s, sys: 197 ms, total: 34.3 s\n",
      "Wall time: 34.4 s\n"
     ]
    }
   ],
   "source": [
    "%%time\n",
    "crf = sklearn_crfsuite.CRF(\n",
    "    algorithm='lbfgs',\n",
    "    c1=0.1,\n",
    "    c2=0.1,\n",
    "    max_iterations=100,\n",
    "    all_possible_transitions=True\n",
    ")\n",
    "crf.fit(X_train, y_train)"
   ]
  },
  {
   "cell_type": "markdown",
   "metadata": {},
   "source": [
    "## Performance per label type per token"
   ]
  },
  {
   "cell_type": "code",
   "execution_count": 6,
   "metadata": {},
   "outputs": [
    {
     "name": "stdout",
     "output_type": "stream",
     "text": [
      "             precision    recall  f1-score   support\n",
      "\n",
      "      B-LOC      0.810     0.784     0.797      1084\n",
      "      I-LOC      0.690     0.637     0.662       325\n",
      "     B-MISC      0.731     0.569     0.640       339\n",
      "     I-MISC      0.699     0.589     0.639       557\n",
      "      B-ORG      0.807     0.832     0.820      1400\n",
      "      I-ORG      0.852     0.786     0.818      1104\n",
      "      B-PER      0.850     0.884     0.867       735\n",
      "      I-PER      0.893     0.943     0.917       634\n",
      "\n",
      "avg / total      0.809     0.787     0.796      6178\n",
      "\n"
     ]
    }
   ],
   "source": [
    "y_pred = crf.predict(X_test)\n",
    "labels = list(crf.classes_)\n",
    "labels.remove('O') # remove 'O' label from evaluation\n",
    "sorted_labels = sorted(labels,key=lambda name: (name[1:], name[0])) # group B and I results\n",
    "print(sklearn_crfsuite.metrics.flat_classification_report(y_test, y_pred, labels=sorted_labels, digits=3))"
   ]
  },
  {
   "cell_type": "markdown",
   "metadata": {},
   "source": [
    "## Performance over full named-entity"
   ]
  },
  {
   "cell_type": "code",
   "execution_count": 7,
   "metadata": {
    "collapsed": true
   },
   "outputs": [],
   "source": [
    "test_sents_labels = []\n",
    "for sentence in test_sents:\n",
    "    sentence = [token[2] for token in sentence]\n",
    "    test_sents_labels.append(sentence)"
   ]
  },
  {
   "cell_type": "code",
   "execution_count": 8,
   "metadata": {
    "collapsed": true
   },
   "outputs": [],
   "source": [
    "index = 2\n",
    "true = collect_named_entities(test_sents_labels[index])\n",
    "pred = collect_named_entities(y_pred[index])"
   ]
  },
  {
   "cell_type": "code",
   "execution_count": 9,
   "metadata": {},
   "outputs": [
    {
     "data": {
      "text/plain": [
       "[Entity(e_type='MISC', start_offset=12, end_offset=12),\n",
       " Entity(e_type='LOC', start_offset=15, end_offset=15),\n",
       " Entity(e_type='PER', start_offset=37, end_offset=39),\n",
       " Entity(e_type='ORG', start_offset=45, end_offset=46)]"
      ]
     },
     "execution_count": 9,
     "metadata": {},
     "output_type": "execute_result"
    }
   ],
   "source": [
    "true"
   ]
  },
  {
   "cell_type": "code",
   "execution_count": 10,
   "metadata": {},
   "outputs": [
    {
     "data": {
      "text/plain": [
       "[Entity(e_type='MISC', start_offset=12, end_offset=12),\n",
       " Entity(e_type='LOC', start_offset=15, end_offset=15),\n",
       " Entity(e_type='PER', start_offset=37, end_offset=39),\n",
       " Entity(e_type='LOC', start_offset=45, end_offset=46)]"
      ]
     },
     "execution_count": 10,
     "metadata": {},
     "output_type": "execute_result"
    }
   ],
   "source": [
    "pred"
   ]
  },
  {
   "cell_type": "code",
   "execution_count": 11,
   "metadata": {
    "collapsed": true
   },
   "outputs": [],
   "source": [
    "index = 2\n",
    "true = collect_named_entities(test_sents_labels[index])\n",
    "pred = collect_named_entities(y_pred[index])"
   ]
  },
  {
   "cell_type": "code",
   "execution_count": 12,
   "metadata": {},
   "outputs": [
    {
     "data": {
      "text/plain": [
       "[Entity(e_type='MISC', start_offset=12, end_offset=12),\n",
       " Entity(e_type='LOC', start_offset=15, end_offset=15),\n",
       " Entity(e_type='PER', start_offset=37, end_offset=39),\n",
       " Entity(e_type='ORG', start_offset=45, end_offset=46)]"
      ]
     },
     "execution_count": 12,
     "metadata": {},
     "output_type": "execute_result"
    }
   ],
   "source": [
    "true"
   ]
  },
  {
   "cell_type": "code",
   "execution_count": 13,
   "metadata": {},
   "outputs": [
    {
     "data": {
      "text/plain": [
       "[Entity(e_type='MISC', start_offset=12, end_offset=12),\n",
       " Entity(e_type='LOC', start_offset=15, end_offset=15),\n",
       " Entity(e_type='PER', start_offset=37, end_offset=39),\n",
       " Entity(e_type='LOC', start_offset=45, end_offset=46)]"
      ]
     },
     "execution_count": 13,
     "metadata": {},
     "output_type": "execute_result"
    }
   ],
   "source": [
    "pred"
   ]
  },
  {
   "cell_type": "code",
   "execution_count": 17,
   "metadata": {},
   "outputs": [
    {
     "data": {
      "text/plain": [
       "({'ent_type': {'actual': 4,\n",
       "   'correct': 3,\n",
       "   'incorrect': 1,\n",
       "   'missed': 0,\n",
       "   'partial': 0,\n",
       "   'possible': 4,\n",
       "   'precision': 0.75,\n",
       "   'recall': 0.75,\n",
       "   'spurius': 0},\n",
       "  'strict': {'actual': 4,\n",
       "   'correct': 3,\n",
       "   'incorrect': 1,\n",
       "   'missed': 0,\n",
       "   'partial': 0,\n",
       "   'possible': 4,\n",
       "   'precision': 0.75,\n",
       "   'recall': 0.75,\n",
       "   'spurius': 0}},\n",
       " {'LOC': {'ent_type': {'correct': 1,\n",
       "    'incorrect': 1,\n",
       "    'missed': 0,\n",
       "    'partial': 0,\n",
       "    'spurius': 0},\n",
       "   'strict': {'correct': 1,\n",
       "    'incorrect': 1,\n",
       "    'missed': 0,\n",
       "    'partial': 0,\n",
       "    'spurius': 0}},\n",
       "  'MISC': {'ent_type': {'correct': 1,\n",
       "    'incorrect': 0,\n",
       "    'missed': 0,\n",
       "    'partial': 0,\n",
       "    'spurius': 0},\n",
       "   'strict': {'correct': 1,\n",
       "    'incorrect': 0,\n",
       "    'missed': 0,\n",
       "    'partial': 0,\n",
       "    'spurius': 0}},\n",
       "  'ORG': {'ent_type': {'correct': 0,\n",
       "    'incorrect': 0,\n",
       "    'missed': 0,\n",
       "    'partial': 0,\n",
       "    'spurius': 0},\n",
       "   'strict': {'correct': 0,\n",
       "    'incorrect': 0,\n",
       "    'missed': 0,\n",
       "    'partial': 0,\n",
       "    'spurius': 0}},\n",
       "  'PER': {'ent_type': {'correct': 1,\n",
       "    'incorrect': 0,\n",
       "    'missed': 0,\n",
       "    'partial': 0,\n",
       "    'spurius': 0},\n",
       "   'strict': {'correct': 1,\n",
       "    'incorrect': 0,\n",
       "    'missed': 0,\n",
       "    'partial': 0,\n",
       "    'spurius': 0}}})"
      ]
     },
     "execution_count": 17,
     "metadata": {},
     "output_type": "execute_result"
    }
   ],
   "source": [
    "compute_metrics(true, pred)"
   ]
  },
  {
   "cell_type": "code",
   "execution_count": 18,
   "metadata": {
    "collapsed": true
   },
   "outputs": [],
   "source": [
    "to_test = [2,4,12,14]"
   ]
  },
  {
   "cell_type": "code",
   "execution_count": 19,
   "metadata": {
    "collapsed": true
   },
   "outputs": [],
   "source": [
    "index = 2\n",
    "true_named_entities_type = defaultdict(list)\n",
    "pred_named_entities_type = defaultdict(list)\n",
    "\n",
    "for true in collect_named_entities(test_sents_labels[index]):\n",
    "    true_named_entities_type[true.e_type].append(true)\n",
    "\n",
    "for pred in collect_named_entities(y_pred[index]):\n",
    "    pred_named_entities_type[pred.e_type].append(pred)"
   ]
  },
  {
   "cell_type": "code",
   "execution_count": 20,
   "metadata": {},
   "outputs": [
    {
     "data": {
      "text/plain": [
       "defaultdict(list,\n",
       "            {'LOC': [Entity(e_type='LOC', start_offset=15, end_offset=15)],\n",
       "             'MISC': [Entity(e_type='MISC', start_offset=12, end_offset=12)],\n",
       "             'ORG': [Entity(e_type='ORG', start_offset=45, end_offset=46)],\n",
       "             'PER': [Entity(e_type='PER', start_offset=37, end_offset=39)]})"
      ]
     },
     "execution_count": 20,
     "metadata": {},
     "output_type": "execute_result"
    }
   ],
   "source": [
    "true_named_entities_type"
   ]
  },
  {
   "cell_type": "code",
   "execution_count": 21,
   "metadata": {},
   "outputs": [
    {
     "data": {
      "text/plain": [
       "defaultdict(list,\n",
       "            {'LOC': [Entity(e_type='LOC', start_offset=15, end_offset=15),\n",
       "              Entity(e_type='LOC', start_offset=45, end_offset=46)],\n",
       "             'MISC': [Entity(e_type='MISC', start_offset=12, end_offset=12)],\n",
       "             'PER': [Entity(e_type='PER', start_offset=37, end_offset=39)]})"
      ]
     },
     "execution_count": 21,
     "metadata": {},
     "output_type": "execute_result"
    }
   ],
   "source": [
    "pred_named_entities_type"
   ]
  },
  {
   "cell_type": "code",
   "execution_count": 22,
   "metadata": {},
   "outputs": [
    {
     "data": {
      "text/plain": [
       "[Entity(e_type='LOC', start_offset=15, end_offset=15)]"
      ]
     },
     "execution_count": 22,
     "metadata": {},
     "output_type": "execute_result"
    }
   ],
   "source": [
    "true_named_entities_type['LOC']"
   ]
  },
  {
   "cell_type": "code",
   "execution_count": 23,
   "metadata": {},
   "outputs": [
    {
     "data": {
      "text/plain": [
       "[Entity(e_type='LOC', start_offset=15, end_offset=15),\n",
       " Entity(e_type='LOC', start_offset=45, end_offset=46)]"
      ]
     },
     "execution_count": 23,
     "metadata": {},
     "output_type": "execute_result"
    }
   ],
   "source": [
    "pred_named_entities_type['LOC']"
   ]
  },
  {
   "cell_type": "code",
   "execution_count": 24,
   "metadata": {},
   "outputs": [
    {
     "data": {
      "text/plain": [
       "({'ent_type': {'actual': 2,\n",
       "   'correct': 1,\n",
       "   'incorrect': 0,\n",
       "   'missed': 0,\n",
       "   'partial': 0,\n",
       "   'possible': 1,\n",
       "   'precision': 0.5,\n",
       "   'recall': 1.0,\n",
       "   'spurius': 1},\n",
       "  'strict': {'actual': 2,\n",
       "   'correct': 1,\n",
       "   'incorrect': 0,\n",
       "   'missed': 0,\n",
       "   'partial': 0,\n",
       "   'possible': 1,\n",
       "   'precision': 0.5,\n",
       "   'recall': 1.0,\n",
       "   'spurius': 1}},\n",
       " {'LOC': {'ent_type': {'correct': 1,\n",
       "    'incorrect': 0,\n",
       "    'missed': 0,\n",
       "    'partial': 0,\n",
       "    'spurius': 1},\n",
       "   'strict': {'correct': 1,\n",
       "    'incorrect': 0,\n",
       "    'missed': 0,\n",
       "    'partial': 0,\n",
       "    'spurius': 1}},\n",
       "  'MISC': {'ent_type': {'correct': 0,\n",
       "    'incorrect': 0,\n",
       "    'missed': 0,\n",
       "    'partial': 0,\n",
       "    'spurius': 0},\n",
       "   'strict': {'correct': 0,\n",
       "    'incorrect': 0,\n",
       "    'missed': 0,\n",
       "    'partial': 0,\n",
       "    'spurius': 0}},\n",
       "  'ORG': {'ent_type': {'correct': 0,\n",
       "    'incorrect': 0,\n",
       "    'missed': 0,\n",
       "    'partial': 0,\n",
       "    'spurius': 0},\n",
       "   'strict': {'correct': 0,\n",
       "    'incorrect': 0,\n",
       "    'missed': 0,\n",
       "    'partial': 0,\n",
       "    'spurius': 0}},\n",
       "  'PER': {'ent_type': {'correct': 0,\n",
       "    'incorrect': 0,\n",
       "    'missed': 0,\n",
       "    'partial': 0,\n",
       "    'spurius': 0},\n",
       "   'strict': {'correct': 0,\n",
       "    'incorrect': 0,\n",
       "    'missed': 0,\n",
       "    'partial': 0,\n",
       "    'spurius': 0}}})"
      ]
     },
     "execution_count": 24,
     "metadata": {},
     "output_type": "execute_result"
    }
   ],
   "source": [
    "compute_metrics(true_named_entities_type['LOC'], pred_named_entities_type['LOC'])"
   ]
  },
  {
   "cell_type": "markdown",
   "metadata": {},
   "source": [
    "## results over all messages"
   ]
  },
  {
   "cell_type": "code",
   "execution_count": 25,
   "metadata": {},
   "outputs": [],
   "source": [
    "metrics_results = {'correct': 0, 'incorrect': 0, 'partial': 0,\n",
    "                   'missed': 0, 'spurius': 0, 'possible': 0, 'actual': 0}\n",
    "\n",
    "# overall results\n",
    "results = {'strict': deepcopy(metrics_results),\n",
    "           'ent_type': deepcopy(metrics_results)\n",
    "           }\n",
    "\n",
    "# results aggregated by entity type\n",
    "evaluation_agg_entities_type = {e: deepcopy(results) for e in ['LOC','PER','ORG','MISC']}\n",
    "\n",
    "for true_ents, pred_ents in zip(test_sents_labels, y_pred):    \n",
    "    # compute results for one message\n",
    "    tmp_results, tmp_agg_results = compute_metrics(collect_named_entities(true_ents),collect_named_entities(pred_ents))\n",
    "    \n",
    "    # aggregate overall results\n",
    "    for eval_schema in results.keys():\n",
    "        for metric in metrics_results.keys():\n",
    "            results[eval_schema][metric] += tmp_results[eval_schema][metric]\n",
    "\n",
    "    # aggregate results by entity type\n",
    "    for e_type in ['LOC','PER','ORG','MISC']:\n",
    "        for eval_schema in tmp_agg_results[e_type]:\n",
    "            for metric in tmp_agg_results[e_type][eval_schema]:\n",
    "                evaluation_agg_entities_type[e_type][eval_schema][metric] += tmp_agg_results[e_type][eval_schema][metric]\n"
   ]
  },
  {
   "cell_type": "code",
   "execution_count": 26,
   "metadata": {},
   "outputs": [
    {
     "data": {
      "text/plain": [
       "{'ent_type': {'actual': 3518,\n",
       "  'correct': 2909,\n",
       "  'incorrect': 564,\n",
       "  'missed': 111,\n",
       "  'partial': 0,\n",
       "  'possible': 3584,\n",
       "  'spurius': 45},\n",
       " 'strict': {'actual': 3518,\n",
       "  'correct': 2779,\n",
       "  'incorrect': 694,\n",
       "  'missed': 111,\n",
       "  'partial': 0,\n",
       "  'possible': 3584,\n",
       "  'spurius': 45}}"
      ]
     },
     "execution_count": 26,
     "metadata": {},
     "output_type": "execute_result"
    }
   ],
   "source": [
    "results"
   ]
  },
  {
   "cell_type": "code",
   "execution_count": 27,
   "metadata": {},
   "outputs": [
    {
     "data": {
      "text/plain": [
       "{'LOC': {'ent_type': {'actual': 0,\n",
       "   'correct': 861,\n",
       "   'incorrect': 180,\n",
       "   'missed': 32,\n",
       "   'partial': 0,\n",
       "   'possible': 0,\n",
       "   'spurius': 5},\n",
       "  'strict': {'actual': 0,\n",
       "   'correct': 840,\n",
       "   'incorrect': 201,\n",
       "   'missed': 32,\n",
       "   'partial': 0,\n",
       "   'possible': 0,\n",
       "   'spurius': 5}},\n",
       " 'MISC': {'ent_type': {'actual': 0,\n",
       "   'correct': 211,\n",
       "   'incorrect': 46,\n",
       "   'missed': 33,\n",
       "   'partial': 0,\n",
       "   'possible': 0,\n",
       "   'spurius': 7},\n",
       "  'strict': {'actual': 0,\n",
       "   'correct': 173,\n",
       "   'incorrect': 84,\n",
       "   'missed': 33,\n",
       "   'partial': 0,\n",
       "   'possible': 0,\n",
       "   'spurius': 7}},\n",
       " 'ORG': {'ent_type': {'actual': 0,\n",
       "   'correct': 1181,\n",
       "   'incorrect': 231,\n",
       "   'missed': 34,\n",
       "   'partial': 0,\n",
       "   'possible': 0,\n",
       "   'spurius': 31},\n",
       "  'strict': {'actual': 0,\n",
       "   'correct': 1120,\n",
       "   'incorrect': 292,\n",
       "   'missed': 34,\n",
       "   'partial': 0,\n",
       "   'possible': 0,\n",
       "   'spurius': 31}},\n",
       " 'PER': {'ent_type': {'actual': 0,\n",
       "   'correct': 656,\n",
       "   'incorrect': 107,\n",
       "   'missed': 12,\n",
       "   'partial': 0,\n",
       "   'possible': 0,\n",
       "   'spurius': 2},\n",
       "  'strict': {'actual': 0,\n",
       "   'correct': 646,\n",
       "   'incorrect': 117,\n",
       "   'missed': 12,\n",
       "   'partial': 0,\n",
       "   'possible': 0,\n",
       "   'spurius': 2}}}"
      ]
     },
     "execution_count": 27,
     "metadata": {},
     "output_type": "execute_result"
    }
   ],
   "source": [
    "evaluation_agg_entities_type"
   ]
  }
 ],
 "metadata": {
  "kernelspec": {
   "display_name": "Python 3",
   "language": "python",
   "name": "python3"
  },
  "language_info": {
   "codemirror_mode": {
    "name": "ipython",
    "version": 3
   },
   "file_extension": ".py",
   "mimetype": "text/x-python",
   "name": "python",
   "nbconvert_exporter": "python",
   "pygments_lexer": "ipython3",
   "version": "3.6.2"
  }
 },
 "nbformat": 4,
 "nbformat_minor": 2
}
